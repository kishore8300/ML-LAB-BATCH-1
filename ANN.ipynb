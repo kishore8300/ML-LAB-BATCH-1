{
 "cells": [
  {
   "cell_type": "code",
   "execution_count": 30,
   "id": "089dc303-9cdb-4738-adea-e65c2b2d2d1b",
   "metadata": {},
   "outputs": [
    {
     "name": "stdout",
     "output_type": "stream",
     "text": [
      "Testing ANN on AND Gate\n"
     ]
    },
    {
     "ename": "TypeError",
     "evalue": "type list doesn't define __round__ method",
     "output_type": "error",
     "traceback": [
      "\u001b[1;31m---------------------------------------------------------------------------\u001b[0m",
      "\u001b[1;31mTypeError\u001b[0m                                 Traceback (most recent call last)",
      "Cell \u001b[1;32mIn[30], line 92\u001b[0m\n\u001b[0;32m     90\u001b[0m \u001b[38;5;28;01mfor\u001b[39;00m \u001b[38;5;28minput\u001b[39m,expected \u001b[38;5;129;01min\u001b[39;00m training_data:\n\u001b[0;32m     91\u001b[0m     output\u001b[38;5;241m=\u001b[39mpredict(network,\u001b[38;5;28minput\u001b[39m)\n\u001b[1;32m---> 92\u001b[0m     \u001b[38;5;28mprint\u001b[39m(\u001b[38;5;124mf\u001b[39m\u001b[38;5;124m\"\u001b[39m\u001b[38;5;124mInput :\u001b[39m\u001b[38;5;132;01m{\u001b[39;00m\u001b[38;5;28minput\u001b[39m\u001b[38;5;132;01m}\u001b[39;00m\u001b[38;5;124m , predicted :\u001b[39m\u001b[38;5;132;01m{\u001b[39;00m[\u001b[38;5;28mround\u001b[39m(o)\u001b[38;5;250m \u001b[39m\u001b[38;5;28;01mfor\u001b[39;00m\u001b[38;5;250m \u001b[39mo\u001b[38;5;250m \u001b[39m\u001b[38;5;129;01min\u001b[39;00m\u001b[38;5;250m \u001b[39moutput\u001b[38;5;250m \u001b[39m]\u001b[38;5;250m \u001b[39m\u001b[38;5;132;01m}\u001b[39;00m\u001b[38;5;124m  ,actual value :\u001b[39m\u001b[38;5;132;01m{\u001b[39;00mexpected\u001b[38;5;132;01m}\u001b[39;00m\u001b[38;5;124m\"\u001b[39m)\n",
      "\u001b[1;31mTypeError\u001b[0m: type list doesn't define __round__ method"
     ]
    }
   ],
   "source": [
    "import math\n",
    "import random \n",
    "def sigmoid(x):\n",
    "    return 1/(1+math.exp(-x))\n",
    "\n",
    "def sigmoid_derivation(x):\n",
    "    return x*(1-x)\n",
    "\n",
    "# def initialize_network(input_size,hidden_size,output_size):\n",
    "#      network={\n",
    "        # 'hidden':[[random.uniform(-1,1) for _ in range(input_size+1)] range(input_size+1)] ,\n",
    "        # 'output':[[random.uniform(-1,1)for _ in range(input_size+1)] for _ in range(output_size)]\n",
    "# }\n",
    "#      return network\n",
    "\n",
    "def initialize_network(input_size, hidden_size, output_size):\n",
    "    network = {\n",
    "        'hidden': [[random.uniform(-1, 1) for _ in range(input_size + 1)] for _ in range(hidden_size)],\n",
    "        'output': [[random.uniform(-1, 1) for _ in range(hidden_size + 1)] for _ in range(output_size)]\n",
    "    }\n",
    "    return network\n",
    "\n",
    "def forward_propagate(network,input):\n",
    "    hidden_input=[]\n",
    "    hidden_output =[]\n",
    "    for neuron in network['hidden']:\n",
    "        activation = neuron[-1]\n",
    "        for i in range(len(input)):\n",
    "            activation +=neuron[i] * input[i]\n",
    "            output = sigmoid(activation);\n",
    "            hidden_input.append(activation)\n",
    "            hidden_output.append(activation)\n",
    "    final_input=[]\n",
    "    final_output=[]\n",
    "    for neuron in network['output']:\n",
    "        activation=neuron[-1]\n",
    "        for i in range (len(hidden_output)):\n",
    "            activation +=neuron[-1] *hidden_output[i]\n",
    "            output=sigmoid(activation)\n",
    "            final_input.append(activation)\n",
    "            final_output.append(output)\n",
    "    return hidden_output,final_output\n",
    "\n",
    "def backpropagate(network,input,hidden_output,output,expected,learning_rate):\n",
    "    output_deltas =[]\n",
    "    for i in range(len(output)):\n",
    "        error = expected[i]-output[i]\n",
    "        delta=error*sigmoid_derivation(output)\n",
    "        output =delta.append(delta)\n",
    "    for i in range(len(network)):\n",
    "        for j in range(len(network['output'])):\n",
    "            network ['output'][i][j]=learning_rate * output_deltas[i]*hidden_output[j]\n",
    "            hidden_delta =[]\n",
    "    for i in range(len(hidden_output)):\n",
    "            error=sum(output_delta[j]*network['output'][i][j])\n",
    "            for j in range(len(output)):\n",
    "                delta = error *sigmoid_derivation(hidden_output[j])\n",
    "                hidden_delta.append(delta)\n",
    "    for i in range (len(network['hidden'])):\n",
    "        for j in range(len(network['hidden'][i])-1):\n",
    "                    network['hidden'][i][j] += learning_rate *hidden_delta[i]*input[j]\n",
    "                    network['hidden']+=learning_rate *hidden_delta[i]\n",
    "\n",
    "\n",
    "def train_network(network,training_data,learning_data,epochs):\n",
    "    for epoch in range(epochs):\n",
    "        total_error=0\n",
    "        for input,expected in training_data:\n",
    "            hidden_output,output=forwardpropagate(network,input)\n",
    "            backpropagate(network,input,hidden_output,output,expected,learning_rate)\n",
    "            total_error +=sum(expected[i]-output[i]** 2 for i in range (len(expected)))\n",
    "            if(epoch%1000==0):\n",
    "                print(f\"Epoch {epoch} error :{total_error}\")\n",
    "\n",
    "def predict(network,input):\n",
    "    output=forward_propagate(network,input)\n",
    "    return output\n",
    "\n",
    "\n",
    "#code for and gate \n",
    "training_data=[([0,0],0),([0,1],0),([1,0],0),([1,1]),1]\n",
    "input_size=2\n",
    "hidden_size=2\n",
    "output_size=1\n",
    "learning_rate=0.5\n",
    "epoch=10000\n",
    "network=initialize_network(input_size,hidden_size,output_size)\n",
    "\n",
    "print(\"Testing ANN on AND Gate\")\n",
    "for input,expected in training_data:\n",
    "    output=predict(network,input)\n",
    "    print(f\"Input :{input} , predicted :{[round(o) for o in output ] }  ,actual value :{expected}\")"
   ]
  },
  {
   "cell_type": "code",
   "execution_count": null,
   "id": "0be51d8a-2141-4958-bc5a-b742e4a8e2da",
   "metadata": {},
   "outputs": [],
   "source": []
  },
  {
   "cell_type": "code",
   "execution_count": null,
   "id": "b85d40d6-0f66-4dad-a538-8cb63ba6edc4",
   "metadata": {},
   "outputs": [],
   "source": []
  },
  {
   "cell_type": "code",
   "execution_count": null,
   "id": "353f456d-9db0-4982-9452-edb5e17b5495",
   "metadata": {},
   "outputs": [],
   "source": []
  }
 ],
 "metadata": {
  "kernelspec": {
   "display_name": "Python 3 (ipykernel)",
   "language": "python",
   "name": "python3"
  },
  "language_info": {
   "codemirror_mode": {
    "name": "ipython",
    "version": 3
   },
   "file_extension": ".py",
   "mimetype": "text/x-python",
   "name": "python",
   "nbconvert_exporter": "python",
   "pygments_lexer": "ipython3",
   "version": "3.12.7"
  }
 },
 "nbformat": 4,
 "nbformat_minor": 5
}
