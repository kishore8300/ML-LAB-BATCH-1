{
 "cells": [
  {
   "cell_type": "code",
   "execution_count": 2,
   "id": "a81de6c6-b824-405b-9565-69d2de675a99",
   "metadata": {
    "scrolled": true
   },
   "outputs": [
    {
     "data": {
      "image/png": "[encoded data removed]",
      "text/plain": [
       "<Figure size 640x480 with 1 Axes>"
      ]
     },
     "metadata": {},
     "output_type": "display_data"
    },
    {
     "name": "stdout",
     "output_type": "stream",
     "text": [
      "Mean ESquare Error :590.7184564212017\n"
     ]
    }
   ],
   "source": [
    "from sklearn.linear_model import Lasso\n",
    "from sklearn.model_selection import train_test_split\n",
    "from sklearn.datasets import make_regression \n",
    "from sklearn.metrics import mean_squared_error\n",
    "import matplotlib.pyplot as plt\n",
    "\n",
    "\n",
    "X, y = make_regression(n_samples=10, n_features=10, n_informative=5, random_state=42)\n",
    "# X,y= make_regression(n_samples=housing,n_feature=5,noise =0.2 ,random_stste=42)\n",
    "\n",
    "X_train,X_test,y_train,y_test = train_test_split(X,y,test_size=0.2,random_state=42)\n",
    "test = Lasso(alpha=0.1)\n",
    "\n",
    "test.fit(X_train,y_train)\n",
    "y_predict =test.predict(X_test) \n",
    "mse = mean_squared_error(y_test,y_predict)\n",
    "plt.scatter(y_test,y_predict,color=\"red\")\n",
    "# plt.scatter(X_test,y_test,color=\"blue\")\n",
    "plt.show()\n",
    "print(f\"Mean ESquare Error :{mse}\")\n",
    "\n"
   ]
  },
  {
   "cell_type": "code",
   "execution_count": null,
   "id": "b8e476a4-69a9-4bfb-9a6f-11fd740736ec",
   "metadata": {},
   "outputs": [],
   "source": []
  },
  {
   "cell_type": "code",
   "execution_count": 40,
   "id": "35a7a78e-20d1-4c9b-9fde-3e49c2d51986",
   "metadata": {},
   "outputs": [
    {
     "name": "stdout",
     "output_type": "stream",
     "text": [
      "87.53053094392837\n"
     ]
    }
   ],
   "source": [
    "from sklearn.datasets import make_regression\n",
    "from sklearn.linear_model import Ridge\n",
    "from sklearn.metrics import mean_squared_error\n",
    "from sklearn.model_selection import train_test_split\n",
    "\n",
    "\n",
    "X, y = make_regression(n_samples=10, n_features=10, n_informative=1, random_state=42)\n",
    "\n",
    "X_train,X_test,y_train,y_test = train_test_split(X,y,test_size=0.2,random_state=42)\n",
    "ridge=Ridge(alpha=1)\n",
    "\n",
    "ridge.fit(X_train,y_train)\n",
    "y_predict =ridge.predict(X_test)\n",
    "mse =mean_squared_error(y_test,y_predict)\n",
    "print(mse)"
   ]
  },
  {
   "cell_type": "code",
   "execution_count": null,
   "id": "67129b98-fb7e-4c97-a622-53307e46d803",
   "metadata": {},
   "outputs": [],
   "source": []
  },
  {
   "cell_type": "code",
   "execution_count": 50,
   "id": "91fe79ff-37a8-4f59-ba55-a3d1cc04ab67",
   "metadata": {
    "scrolled": true
   },
   "outputs": [
    {
     "name": "stdout",
     "output_type": "stream",
     "text": [
      "[[ 0.82254491 -1.22084365 -1.32818605 -0.01349722 -1.95967012  0.2088636\n",
      "  -1.05771093  1.85227818  0.19686124 -0.60170661]\n",
      " [-0.39210815 -1.46351495  0.00511346 -0.70205309  0.26105527  0.29612028\n",
      "  -0.32766215  0.96864499 -0.23458713  0.09707755]\n",
      " [-0.54438272  0.11092259 -0.60063869  0.0675282   0.37569802 -1.15099358\n",
      "  -1.42474819 -0.2257763  -0.29169375  1.46564877]\n",
      " [-0.8084936  -0.50175704 -0.5297602   1.47789404  0.32875111  0.91540212\n",
      "  -0.51827022  0.35711257  0.51326743 -0.21967189]\n",
      " [-1.47852199 -0.71984421  0.34361829 -0.11564828  1.05712223 -0.46063877\n",
      "  -0.3011037   0.17136828 -1.76304016  0.73846658]\n",
      " [-2.6197451   0.8219025   0.09176078 -0.03582604 -0.29900735  0.08704707\n",
      "   1.56464366  1.53803657 -1.98756891  0.36139561]\n",
      " [ 0.81252582  1.35624003  0.36163603 -1.10633497  1.0035329  -0.07201012\n",
      "  -1.19620662 -0.18565898 -0.64511975 -0.47917424]\n",
      " [-1.72491783 -0.56228753 -0.90802408  0.24196227  0.31424733 -1.01283112\n",
      "  -1.91328024 -0.46572975 -1.4123037  -0.46341769]]\n",
      "[[-0.23415337 -0.23413696 -0.46947439  0.64768854  0.76743473  1.57921282\n",
      "   1.52302986 -0.1382643   0.54256004  0.49671415]\n",
      " [ 1.03099952  0.93128012  0.33126343 -0.676922   -0.30921238 -0.83921752\n",
      "   0.61167629 -0.38508228  0.97554513  0.32408397]]\n",
      "[20.73339529 13.52762148]\n",
      "[18.48562893 28.72468824]\n",
      "Coefficent : [ 0.         -0.85860892  1.53329229  1.18479567  1.84323993 -9.07164759\n",
      "  4.84228122  0.          3.82282048 32.52906399]\n"
     ]
    }
   ],
   "source": [
    "from sklearn.linear_model import ElasticNet\n",
    "from sklearn.datasets import make_regression\n",
    "from sklearn.model_selection import train_test_split\n",
    "from sklearn.metrics import mean_squared_error\n",
    "\n",
    "X,y=make_regression(n_samples=10,n_features=10,n_informative=1,random_state=42)\n",
    "\n",
    "X_train,X_test,y_train,y_test =train_test_split(X,y,test_size=0.2,random_state=42)\n",
    "enet =ElasticNet(alpha=0.1,l1_ratio=0.5)\n",
    "enet.fit(X_train,y_train)\n",
    "y_predict =enet.predict(X_test)\n",
    "print(X_train)\n",
    "print(X_test)\n",
    "print(y_test)\n",
    "print(y_predict)\n",
    "print(\"Coefficent :\",enet.coef_)"
   ]
  },
  {
   "cell_type": "code",
   "execution_count": null,
   "id": "1cdb6ea4-540d-4009-ad58-769a5d7755dd",
   "metadata": {},
   "outputs": [],
   "source": []
  }
 ],
 "metadata": {
  "kernelspec": {
   "display_name": "Python 3 (ipykernel)",
   "language": "python",
   "name": "python3"
  },
  "language_info": {
   "codemirror_mode": {
    "name": "ipython",
    "version": 3
   },
   "file_extension": ".py",
   "mimetype": "text/x-python",
   "name": "python",
   "nbconvert_exporter": "python",
   "pygments_lexer": "ipython3",
   "version": "3.12.7"
  }
 },
 "nbformat": 4,
 "nbformat_minor": 5
}
