{
 "cells": [
  {
   "cell_type": "code",
   "execution_count": 5,
   "id": "a448aca8-1dd7-4a75-a787-f454fa4afa18",
   "metadata": {},
   "outputs": [
    {
     "name": "stdout",
     "output_type": "stream",
     "text": [
      "{'Outlook': {'Overcast': 'Yes', 'Rainy': {'Windy': {False: 'Yes', True: 'No'}}, 'Sunny': {'Humidity': {'High': 'No', 'Normal': 'Yes'}}}}\n"
     ]
    }
   ],
   "source": [
    "import pandas as pd\n",
    "import numpy as np\n",
    " \n",
    "data = {\n",
    "    'Outlook': ['Sunny','Sunny','Overcast','Rainy','Rainy','Rainy','Overcast','Sunny','Sunny','Rainy','Sunny','Overcast','Overcast','Rainy'],\n",
    "    'Temperature': ['Hot','Hot','Hot','Mild','Cool','Cool','Cool','Mild','Cool','Mild','Mild','Mild','Hot','Mild'],\n",
    "    'Humidity': ['High','High','High','High','Normal','Normal','Normal','High','Normal','Normal','Normal','High','Normal','High'],\n",
    "    'Windy': [False, True, False, False, False, True, True, False, False, False, True, True, False, True],\n",
    "    'Play': ['No','No','Yes','Yes','Yes','No','Yes','No','Yes','Yes','Yes','Yes','Yes','No']\n",
    "}\n",
    "df = pd.DataFrame(data)\n",
    " \n",
    "def entropy(target_col):\n",
    "    vals, counts = np.unique(target_col, return_counts=True)\n",
    "    return -np.sum((counts/len(target_col)) * np.log2(counts/len(target_col)))\n",
    " \n",
    "def info_gain(data, split_attr, target=\"Play\"):\n",
    "    total_entropy = entropy(data[target])\n",
    "    vals, counts = np.unique(data[split_attr], return_counts=True)\n",
    "    weighted_entropy = np.sum([\n",
    "        (counts[i]/np.sum(counts)) * entropy(data[data[split_attr]==vals[i]][target])\n",
    "        for i in range(len(vals))\n",
    "    ])\n",
    "    return total_entropy - weighted_entropy\n",
    " \n",
    "def id3(data, features, target=\"Play\"):\n",
    "    unique_classes = np.unique(data[target])\n",
    "    if len(unique_classes) == 1:\n",
    "        return unique_classes[0]\n",
    "    if len(features) == 0:\n",
    "        return data[target].mode()[0]\n",
    "    gains = [info_gain(data, attr, target) for attr in features]\n",
    "    best_feat = features[np.argmax(gains)]\n",
    "    tree = {best_feat: {}}\n",
    "    for v in np.unique(data[best_feat]):\n",
    "        sub = data[data[best_feat] == v]\n",
    "        subtree = id3(sub, [f for f in features if f != best_feat], target)\n",
    "        tree[best_feat][v] = subtree\n",
    "    return tree\n",
    " \n",
    "tree = id3(df, ['Outlook','Temperature','Humidity','Windy'], 'Play')\n",
    "print(tree)\n"
   ]
  }
 ],
 "metadata": {
  "kernelspec": {
   "display_name": "Python 3 (ipykernel)",
   "language": "python",
   "name": "python3"
  },
  "language_info": {
   "codemirror_mode": {
    "name": "ipython",
    "version": 3
   },
   "file_extension": ".py",
   "mimetype": "text/x-python",
   "name": "python",
   "nbconvert_exporter": "python",
   "pygments_lexer": "ipython3",
   "version": "3.12.7"
  }
 },
 "nbformat": 4,
 "nbformat_minor": 5
}
